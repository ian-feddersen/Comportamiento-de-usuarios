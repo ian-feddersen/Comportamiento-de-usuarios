{
 "cells": [
  {
   "cell_type": "markdown",
   "metadata": {},
   "source": [
    "## Paso 1: Cargar y explorar el dataset\n",
    "Cargaremos los datos y realizaremos una exploración inicial para asegurarnos de que todo esté en orden."
   ]
  },
  {
   "cell_type": "code",
   "execution_count": 1,
   "metadata": {},
   "outputs": [
    {
     "name": "stdout",
     "output_type": "stream",
     "text": [
      "      EventName\\tDeviceIDHash\\tEventTimestamp\\tExpId\n",
      "0  MainScreenAppear\\t4575588528974610257\\t1564029...\n",
      "1  MainScreenAppear\\t7416695313311560658\\t1564053...\n",
      "2  PaymentScreenSuccessful\\t3518123091307005509\\t...\n",
      "3  CartScreenAppear\\t3518123091307005509\\t1564054...\n",
      "4  PaymentScreenSuccessful\\t6217807653094995999\\t...\n",
      "<class 'pandas.core.frame.DataFrame'>\n",
      "RangeIndex: 244126 entries, 0 to 244125\n",
      "Data columns (total 1 columns):\n",
      " #   Column                                       Non-Null Count   Dtype \n",
      "---  ------                                       --------------   ----- \n",
      " 0   EventName\tDeviceIDHash\tEventTimestamp\tExpId  244126 non-null  object\n",
      "dtypes: object(1)\n",
      "memory usage: 1.9+ MB\n",
      "None\n",
      "        EventName\\tDeviceIDHash\\tEventTimestamp\\tExpId\n",
      "count                                           244126\n",
      "unique                                          243713\n",
      "top     Tutorial\\t3473691793382022823\\t1564697513\\t248\n",
      "freq                                                 5\n"
     ]
    }
   ],
   "source": [
    "# Importar las librerías necesarias\n",
    "import pandas as pd\n",
    "import matplotlib.pyplot as plt\n",
    "\n",
    "# Cargar el dataset\n",
    "file_path = '/datasets/logs_exp_us.csv'\n",
    "df = pd.read_csv(file_path)\n",
    "\n",
    "# Mostrar las primeras filas del dataset para explorar los datos\n",
    "print(df.head())\n",
    "\n",
    "# Información general del dataset (tipos de datos, valores faltantes)\n",
    "print(df.info())\n",
    "\n",
    "# Descripción básica de las estadísticas del dataset\n",
    "print(df.describe())\n"
   ]
  },
  {
   "cell_type": "markdown",
   "metadata": {},
   "source": [
    "### Paso 1: Cargar el archivo con el delimitador correcto"
   ]
  },
  {
   "cell_type": "code",
   "execution_count": 2,
   "metadata": {},
   "outputs": [
    {
     "name": "stdout",
     "output_type": "stream",
     "text": [
      "                 EventName         DeviceIDHash  EventTimestamp  ExpId\n",
      "0         MainScreenAppear  4575588528974610257      1564029816    246\n",
      "1         MainScreenAppear  7416695313311560658      1564053102    246\n",
      "2  PaymentScreenSuccessful  3518123091307005509      1564054127    248\n",
      "3         CartScreenAppear  3518123091307005509      1564054127    248\n",
      "4  PaymentScreenSuccessful  6217807653094995999      1564055322    248\n",
      "<class 'pandas.core.frame.DataFrame'>\n",
      "RangeIndex: 244126 entries, 0 to 244125\n",
      "Data columns (total 4 columns):\n",
      " #   Column          Non-Null Count   Dtype \n",
      "---  ------          --------------   ----- \n",
      " 0   EventName       244126 non-null  object\n",
      " 1   DeviceIDHash    244126 non-null  int64 \n",
      " 2   EventTimestamp  244126 non-null  int64 \n",
      " 3   ExpId           244126 non-null  int64 \n",
      "dtypes: int64(3), object(1)\n",
      "memory usage: 7.5+ MB\n",
      "None\n"
     ]
    }
   ],
   "source": [
    "import pandas as pd\n",
    "\n",
    "# Cargar el archivo con el delimitador adecuado (tabulaciones)\n",
    "file_path = '/datasets/logs_exp_us.csv'\n",
    "data = pd.read_csv(file_path, delimiter='\\t')\n",
    "\n",
    "# Verificar las primeras filas y la información general del dataframe\n",
    "print(data.head())\n",
    "print(data.info())\n"
   ]
  },
  {
   "cell_type": "markdown",
   "metadata": {},
   "source": [
    "### Paso 2: Revisar y corregir el formato de las columnas"
   ]
  },
  {
   "cell_type": "code",
   "execution_count": 3,
   "metadata": {},
   "outputs": [
    {
     "name": "stdout",
     "output_type": "stream",
     "text": [
      "EventName         0\n",
      "DeviceIDHash      0\n",
      "EventTimestamp    0\n",
      "ExpId             0\n",
      "dtype: int64\n",
      "EventName         object\n",
      "DeviceIDHash       int64\n",
      "EventTimestamp     int64\n",
      "ExpId              int64\n",
      "dtype: object\n",
      "                 EventName         DeviceIDHash      EventTimestamp  ExpId  \\\n",
      "0         MainScreenAppear  4575588528974610257 2019-07-25 04:43:36    246   \n",
      "1         MainScreenAppear  7416695313311560658 2019-07-25 11:11:42    246   \n",
      "2  PaymentScreenSuccessful  3518123091307005509 2019-07-25 11:28:47    248   \n",
      "3         CartScreenAppear  3518123091307005509 2019-07-25 11:28:47    248   \n",
      "4  PaymentScreenSuccessful  6217807653094995999 2019-07-25 11:48:42    248   \n",
      "\n",
      "         Date  \n",
      "0  2019-07-25  \n",
      "1  2019-07-25  \n",
      "2  2019-07-25  \n",
      "3  2019-07-25  \n",
      "4  2019-07-25  \n"
     ]
    }
   ],
   "source": [
    "# Verificar si hay valores nulos\n",
    "print(data.isnull().sum())\n",
    "\n",
    "# Asegurarse de que los tipos de datos sean los correctos\n",
    "print(data.dtypes)\n",
    "\n",
    "# Convertir la columna de tiempo a un formato de fecha y hora\n",
    "data['EventTimestamp'] = pd.to_datetime(data['EventTimestamp'], unit='s')\n",
    "\n",
    "# Extraer la fecha en una nueva columna para facilitar análisis por día\n",
    "data['Date'] = data['EventTimestamp'].dt.date\n",
    "\n",
    "# Verificar las primeras filas para confirmar los cambios\n",
    "print(data.head())\n"
   ]
  },
  {
   "cell_type": "markdown",
   "metadata": {},
   "source": [
    "## Paso 2: Preparar los datos\n",
    "Comprobar los tipos de datos y agregar columnas adicionales de fecha y hora."
   ]
  },
  {
   "cell_type": "code",
   "execution_count": 4,
   "metadata": {},
   "outputs": [
    {
     "name": "stdout",
     "output_type": "stream",
     "text": [
      "Index(['EventName\\tDeviceIDHash\\tEventTimestamp\\tExpId'], dtype='object')\n"
     ]
    }
   ],
   "source": [
    "# Verificar las columnas disponibles\n",
    "print(df.columns)\n"
   ]
  },
  {
   "cell_type": "markdown",
   "metadata": {},
   "source": [
    "Las columnas no se han separado correctamente durante la carga del archivo, en lugar de tener 4 distintas tenemos una sola, hay que solucionarlo cargando el archivo especificando el delimitador correcto (tabulaciones), y asegurarnos de que se esta utilizando el delimitador adecuado al cargar los datos."
   ]
  },
  {
   "cell_type": "code",
   "execution_count": 5,
   "metadata": {},
   "outputs": [
    {
     "name": "stdout",
     "output_type": "stream",
     "text": [
      "                 EventName         DeviceIDHash  EventTimestamp  ExpId\n",
      "0         MainScreenAppear  4575588528974610257      1564029816    246\n",
      "1         MainScreenAppear  7416695313311560658      1564053102    246\n",
      "2  PaymentScreenSuccessful  3518123091307005509      1564054127    248\n",
      "3         CartScreenAppear  3518123091307005509      1564054127    248\n",
      "4  PaymentScreenSuccessful  6217807653094995999      1564055322    248\n",
      "Index(['EventName', 'DeviceIDHash', 'EventTimestamp', 'ExpId'], dtype='object')\n"
     ]
    }
   ],
   "source": [
    "import pandas as pd\n",
    "\n",
    "# Cargar el archivo con el delimitador adecuado (tabulaciones)\n",
    "file_path = '/datasets/logs_exp_us.csv'\n",
    "df = pd.read_csv(file_path, delimiter='\\t')\n",
    "\n",
    "# Verificar las primeras filas y la información general del dataframe\n",
    "print(df.head())\n",
    "print(df.columns)  # Imprime los nombres de las columnas para confirmar que están separados correctamente\n"
   ]
  },
  {
   "cell_type": "code",
   "execution_count": 6,
   "metadata": {},
   "outputs": [
    {
     "name": "stdout",
     "output_type": "stream",
     "text": [
      "EventName         0\n",
      "DeviceIDHash      0\n",
      "EventTimestamp    0\n",
      "ExpId             0\n",
      "dtype: int64\n",
      "EventName         object\n",
      "DeviceIDHash       int64\n",
      "EventTimestamp     int64\n",
      "ExpId              int64\n",
      "dtype: object\n",
      "                 EventName         DeviceIDHash      EventTimestamp  ExpId  \\\n",
      "0         MainScreenAppear  4575588528974610257 2019-07-25 04:43:36    246   \n",
      "1         MainScreenAppear  7416695313311560658 2019-07-25 11:11:42    246   \n",
      "2  PaymentScreenSuccessful  3518123091307005509 2019-07-25 11:28:47    248   \n",
      "3         CartScreenAppear  3518123091307005509 2019-07-25 11:28:47    248   \n",
      "4  PaymentScreenSuccessful  6217807653094995999 2019-07-25 11:48:42    248   \n",
      "\n",
      "         Date  \n",
      "0  2019-07-25  \n",
      "1  2019-07-25  \n",
      "2  2019-07-25  \n",
      "3  2019-07-25  \n",
      "4  2019-07-25  \n"
     ]
    }
   ],
   "source": [
    "# Verificar si hay valores nulos\n",
    "print(df.isnull().sum())\n",
    "\n",
    "# Asegurarse de que los tipos de datos sean los correctos\n",
    "print(df.dtypes)\n",
    "\n",
    "# Convertir la columna de tiempo a un formato de fecha y hora\n",
    "df['EventTimestamp'] = pd.to_datetime(df['EventTimestamp'], unit='s')\n",
    "\n",
    "# Extraer la fecha en una nueva columna para facilitar análisis por día\n",
    "df['Date'] = df['EventTimestamp'].dt.date\n",
    "\n",
    "# Verificar las primeras filas para confirmar los cambios\n",
    "print(df.head())\n"
   ]
  },
  {
   "cell_type": "markdown",
   "metadata": {},
   "source": [
    "No hay valores nulos en ninguna de las columnas, lo que es excelente para el análisis posterior.\n",
    "\n",
    "\n",
    "Tipos de datos: La columna EventTimestamp se ha convertido correctamente en un formato de fecha y hora.\n",
    "\n",
    "\n",
    "Nueva columna Date: Se ha creado la columna Date correctamente, extrayendo la fecha de EventTimestamp."
   ]
  },
  {
   "cell_type": "markdown",
   "metadata": {},
   "source": [
    "## Paso 3: Exploración de los datos\n",
    "\n",
    "Analizamos el periodo cubierto por los datos y verificamos si hay sesgos debido a eventos antiguos. También calculamos el promedio de eventos por usuario."
   ]
  },
  {
   "cell_type": "code",
   "execution_count": 19,
   "metadata": {
    "scrolled": false
   },
   "outputs": [
    {
     "name": "stdout",
     "output_type": "stream",
     "text": [
      "Periodo de tiempo cubierto: 2019-07-25 04:43:36 a 2019-08-07 21:15:17\n"
     ]
    },
    {
     "data": {
      "image/png": "[encoded data removed]",
      "text/plain": [
       "<Figure size 640x480 with 1 Axes>"
      ]
     },
     "metadata": {},
     "output_type": "display_data"
    },
    {
     "name": "stdout",
     "output_type": "stream",
     "text": [
      "Cantidad de usuarios: 7551\n",
      "Promedio de eventos por usuario: 32.33028737915508\n"
     ]
    }
   ],
   "source": [
    "# Obtener la fecha mínima y máxima\n",
    "min_date = df['EventTimestamp'].min()\n",
    "max_date = df['EventTimestamp'].max()\n",
    "\n",
    "print(f\"Periodo de tiempo cubierto: {min_date} a {max_date}\")\n",
    "\n",
    "# Graficar un histograma de eventos por fecha\n",
    "df['EventTimestamp'].hist(bins=50)\n",
    "plt.title('Distribución de eventos por fecha')\n",
    "plt.xlabel('Fecha')\n",
    "plt.ylabel('Cantidad de eventos')\n",
    "plt.xticks(rotation=90)\n",
    "plt.show()\n",
    "\n",
    "# Cantidad de usuarios únicos\n",
    "unique_users = df['DeviceIDHash'].nunique()\n",
    "print(f\"Cantidad de usuarios: {unique_users}\")\n",
    "\n",
    "# Promedio de eventos por usuario\n",
    "avg_events_per_user = df.groupby('DeviceIDHash').size().mean()\n",
    "print(f\"Promedio de eventos por usuario: {avg_events_per_user}\")\n"
   ]
  },
  {
   "cell_type": "code",
   "execution_count": 20,
   "metadata": {},
   "outputs": [
    {
     "name": "stdout",
     "output_type": "stream",
     "text": [
      "Periodo de tiempo cubierto: 2019-07-25 04:43:36 a 2019-08-07 21:15:17\n"
     ]
    },
    {
     "data": {
      "image/png": "[encoded data removed]",
      "text/plain": [
       "<Figure size 1200x600 with 1 Axes>"
      ]
     },
     "metadata": {},
     "output_type": "display_data"
    },
    {
     "name": "stdout",
     "output_type": "stream",
     "text": [
      "Cantidad de usuarios: 7551\n",
      "Promedio de eventos por usuario: 32.33028737915508\n"
     ]
    }
   ],
   "source": [
    "import matplotlib.pyplot as plt\n",
    "import matplotlib.dates as mdates\n",
    "\n",
    "# Obtener la fecha mínima y máxima\n",
    "min_date = df['EventTimestamp'].min()\n",
    "max_date = df['EventTimestamp'].max()\n",
    "\n",
    "print(f\"Periodo de tiempo cubierto: {min_date} a {max_date}\")\n",
    "\n",
    "# Crear un histograma de eventos por fecha\n",
    "plt.figure(figsize=(12, 6))  # Aumentar el tamaño de la figura\n",
    "df['EventTimestamp'].hist(bins=50)\n",
    "plt.title('Distribución de eventos por fecha')\n",
    "plt.xlabel('Fecha')\n",
    "plt.ylabel('Cantidad de eventos')\n",
    "\n",
    "# Configurar el formato de las fechas en el eje x\n",
    "plt.gca().xaxis.set_major_formatter(mdates.DateFormatter('%Y-%m-%d %H:%M'))\n",
    "plt.gca().xaxis.set_major_locator(mdates.DayLocator(interval=1))  # Intervalo de 1 día\n",
    "\n",
    "# Rotar las etiquetas del eje x para mejorar la legibilidad\n",
    "plt.xticks(rotation=90)\n",
    "\n",
    "plt.show()\n",
    "\n",
    "# Cantidad de usuarios únicos\n",
    "unique_users = df['DeviceIDHash'].nunique()\n",
    "print(f\"Cantidad de usuarios: {unique_users}\")\n",
    "\n",
    "# Promedio de eventos por usuario\n",
    "avg_events_per_user = df.groupby('DeviceIDHash').size().mean()\n",
    "print(f\"Promedio de eventos por usuario: {avg_events_per_user}\")\n"
   ]
  },
  {
   "cell_type": "markdown",
   "metadata": {},
   "source": [
    "### Conclusiones del Paso 3: Exploración de los Datos\n",
    "\n",
    "- **Periodo de tiempo cubierto:** Los datos abarcan desde el **25 de julio de 2019 a las 04:43:36** hasta el **7 de agosto de 2019 a las 21:15:17**. Este rango temporal permite analizar la actividad de los usuarios durante un período de dos semanas, lo cual es útil para identificar patrones de comportamiento y tendencias.\n",
    "\n",
    "- **Cantidad de usuarios únicos:** Se registraron **7551** usuarios únicos. Esto sugiere un nivel de participación moderado en la aplicación, indicando que un número considerable de usuarios está interactuando con la plataforma.\n",
    "\n",
    "- **Promedio de eventos por usuario:** El promedio de eventos por usuario es de aproximadamente **32.33**. Esto indica un buen nivel de compromiso, ya que los usuarios están realizando múltiples acciones dentro de la aplicación, lo que puede ser indicativo de un interés sostenido y una experiencia de usuario satisfactoria.\n",
    "\n",
    "Estas observaciones iniciales nos ayudarán a profundizar en el análisis del embudo de ventas y el comportamiento del usuario en los siguientes pasos del proyecto.\n"
   ]
  },
  {
   "cell_type": "markdown",
   "metadata": {},
   "source": [
    "#### ¿Cuántos eventos hay en los registros?"
   ]
  },
  {
   "cell_type": "code",
   "execution_count": 15,
   "metadata": {},
   "outputs": [
    {
     "name": "stdout",
     "output_type": "stream",
     "text": [
      "Cantidad total de eventos: 244126\n"
     ]
    }
   ],
   "source": [
    "total_events = df.shape[0]\n",
    "print(f\"Cantidad total de eventos: {total_events}\")\n"
   ]
  },
  {
   "cell_type": "markdown",
   "metadata": {},
   "source": [
    "#### ¿Cuántos usuarios y usuarias hay en los registros?\n",
    "\n",
    "Existen 7.551 usuarios unicos."
   ]
  },
  {
   "cell_type": "markdown",
   "metadata": {},
   "source": [
    "#### ¿Cuál es el promedio de eventos por usuario?\n",
    "\n",
    "El promedio de eventos por usuario es de 32.33, esto nos indica que en general la gente esta siendo activa en la aplicaccion, lo que nos genera que existen muchas cosas de interes dentro de ella para nuestros usuarios dejando entrever un sentimiento de satisfaccion hacia la misma."
   ]
  },
  {
   "cell_type": "markdown",
   "metadata": {},
   "source": [
    "#### ¿Qué periodo de tiempo cubren los datos? Encuentra la fecha máxima y mínima. Con el histograma por fecha y hora.\n"
   ]
  },
  {
   "cell_type": "code",
   "execution_count": 18,
   "metadata": {},
   "outputs": [
    {
     "name": "stdout",
     "output_type": "stream",
     "text": [
      "Periodo de tiempo cubierto: 2019-07-25 04:43:36 a 2019-08-07 21:15:17\n"
     ]
    }
   ],
   "source": [
    "print(f\"Periodo de tiempo cubierto: {min_date} a {max_date}\")"
   ]
  },
  {
   "cell_type": "markdown",
   "metadata": {},
   "source": [
    "El periodo de tiempo que cubren los datos van desde el 25 de julio del 2019 a las 04:43 AM hasta el 07 de agosto del año 2019 a las 21:15 PM."
   ]
  },
  {
   "cell_type": "markdown",
   "metadata": {},
   "source": [
    "#### ¿Puedes tener seguridad de que tienes datos igualmente completos para todo el periodo?"
   ]
  },
  {
   "cell_type": "markdown",
   "metadata": {},
   "source": [
    "Si existen periodos de tiempo con un número significativamente menor de eventos como la ultima semana de julio (25-07 al 31-07) que es el incio de donde  se ven claramente en el histograma donde se encuentran un numero bastante menor de eventos o casi nulo  en comparacion con el resto de los dias, esto podría indicar que no se tienen datos completos para esos días.\n",
    "\n",
    "Basandome en el histograma, se notan picos y valles, esto podría indicar que hay días con una cantidad de eventos muy diferente a otros, sugiriendo que los datos no son igualmente completos. Aun asi hay donde se registran menor cantidad de eventos segun el nuevo histograma que desarrolle mas completo respecto a las fechas con horas se puede apreciar que son a las 00:00 de cada dia es decir que en esa hora se registra una menor actividad en la aplicación lo cual es logico producto del horario en el cual la mayoria de la gente esta durmiendo."
   ]
  },
  {
   "cell_type": "markdown",
   "metadata": {},
   "source": [
    "#### ¿Qué periodo representan realmente los datos?\n",
    "\n",
    "Los datos representan un periodo de dos semanas y aproximadamente 2 días. Este rango temporal permite analizar la actividad de los usuarios en la aplicación durante un periodo suficientemente largo para identificar patrones y tendencias. Aun asi la primera semana es casi nula sin datos por lo que podría ser útil realizar un análisis más detallado sobre la frecuencia de eventos por día para evaluar la consistencia de los datos a lo largo del tiempo."
   ]
  },
  {
   "cell_type": "markdown",
   "metadata": {},
   "source": [
    "#### ¿Perdiste muchos eventos y usuarios al excluir los datos más antiguos?\n",
    "\n",
    "La verdad es que no lo creo producto que los primeros datos segun el histograma casi no tienen eventos por lo que nose si dejando los datos mas antiguos se perdieron tantos usuarios como eventos, pero es algo que seria bueno analizarlo mejor."
   ]
  },
  {
   "cell_type": "markdown",
   "metadata": {},
   "source": [
    "## Paso 4: Análisis del embudo de ventas\n",
    "\n",
    "\n",
    "Identificamos los eventos y calculamos la frecuencia de cada uno. Luego, creamos un embudo de eventos para ver cómo se mueven los usuarios a través de las etapas del embudo."
   ]
  },
  {
   "cell_type": "code",
   "execution_count": 8,
   "metadata": {},
   "outputs": [
    {
     "name": "stdout",
     "output_type": "stream",
     "text": [
      "Frecuencia de eventos:\n",
      "MainScreenAppear           119205\n",
      "OffersScreenAppear          46825\n",
      "CartScreenAppear            42731\n",
      "PaymentScreenSuccessful     34313\n",
      "Tutorial                     1052\n",
      "Name: EventName, dtype: int64\n",
      "Cantidad de usuarios por evento:\n",
      "EventName\n",
      "MainScreenAppear           7439\n",
      "OffersScreenAppear         4613\n",
      "CartScreenAppear           3749\n",
      "PaymentScreenSuccessful    3547\n",
      "Tutorial                    847\n",
      "Name: DeviceIDHash, dtype: int64\n",
      "                     Event  Conversion Rate\n",
      "0         MainScreenAppear         0.985168\n",
      "1         CartScreenAppear         0.496491\n",
      "2  PaymentScreenSuccessful         0.469739\n",
      "3                 Purchase         0.000000\n"
     ]
    }
   ],
   "source": [
    "# Contar la frecuencia de cada evento\n",
    "event_counts = df['EventName'].value_counts()\n",
    "print(\"Frecuencia de eventos:\")\n",
    "print(event_counts)\n",
    "\n",
    "# Cantidad de usuarios que realizaron cada evento al menos una vez\n",
    "users_per_event = df.groupby('EventName')['DeviceIDHash'].nunique().sort_values(ascending=False)\n",
    "print(\"Cantidad de usuarios por evento:\")\n",
    "print(users_per_event)\n",
    "\n",
    "# Calcular la proporción de usuarios que completan cada paso del embudo\n",
    "total_users = df['DeviceIDHash'].nunique()\n",
    "\n",
    "# Asumimos una secuencia de embudo (ajusta según los eventos específicos)\n",
    "events_sequence = ['MainScreenAppear', 'CartScreenAppear', 'PaymentScreenSuccessful', 'Purchase']\n",
    "\n",
    "# Crear un DataFrame para guardar las tasas de conversión\n",
    "funnel_data = {}\n",
    "\n",
    "for event in events_sequence:\n",
    "    event_users = df[df['EventName'] == event]['DeviceIDHash'].nunique()\n",
    "    funnel_data[event] = event_users / total_users\n",
    "\n",
    "funnel_df = pd.DataFrame(list(funnel_data.items()), columns=['Event', 'Conversion Rate'])\n",
    "print(funnel_df)\n"
   ]
  },
  {
   "cell_type": "markdown",
   "metadata": {},
   "source": [
    "### Conclusiones del Paso 4: Análisis del Embudo de Ventas\n",
    "\n",
    "- **Frecuencia de Eventos:** \n",
    "  - El evento más frecuente es **MainScreenAppear** con **119,205** ocurrencias, lo que indica que la mayoría de los usuarios están accediendo a la pantalla principal de la aplicación. Esto sugiere que la aplicación tiene un buen nivel de visibilidad y que los usuarios la utilizan con regularidad.\n",
    "  - Los eventos de **OffersScreenAppear** y **CartScreenAppear** también son significativos, con **46,825** y **42,731** ocurrencias respectivamente. Esto puede indicar que los usuarios están interesados en las ofertas y están utilizando la función de carrito, lo cual es positivo para las conversiones futuras.\n",
    "\n",
    "- **Usuarios Únicos por Evento:** \n",
    "  - La cantidad de usuarios únicos que realizan cada evento es un buen indicador de participación. Por ejemplo, **7,439** usuarios han accedido a la pantalla principal, mientras que **3,749** han llegado a la pantalla del carrito, lo que sugiere que una buena parte de los usuarios está avanzando en el proceso de compra.\n",
    "  - Sin embargo, se observa una disminución notable en la cantidad de usuarios que completan el evento **PaymentScreenSuccessful** (3,547), lo que podría indicar fricciones en el proceso de pago o en la experiencia del usuario en esa etapa.\n",
    "\n",
    "- **Tasa de Conversión del Embudo:**\n",
    "  - La tasa de conversión más alta se observa en **MainScreenAppear** (98.52%), lo que es esperado ya que este evento representa la entrada a la aplicación. \n",
    "  - Sin embargo, hay una caída significativa al **CartScreenAppear** (49.65%) y aún más en **PaymentScreenSuccessful** (46.97%). Esto sugiere que, aunque los usuarios están interesados en añadir productos al carrito, un porcentaje considerable no completa la compra.\n",
    "  - La tasa de conversión de **Purchase** es **0.00%**, lo que indica que no se han registrado compras efectivas en el período analizado. Este es un hallazgo crítico que debe abordarse, ya que sugiere que hay problemas serios en la conversión de visitantes a compradores.\n",
    "\n",
    "Estas observaciones resaltan la necesidad de investigar más a fondo las etapas donde se produce la mayor caída en la conversión y realizar pruebas para optimizar la experiencia del usuario en el embudo de ventas.\n"
   ]
  },
  {
   "cell_type": "markdown",
   "metadata": {},
   "source": [
    "## Paso 5: Análisis del test A/A/B\n",
    "\n",
    "\n",
    "Realizaremos pruebas de hipótesis para comparar los grupos de control y el grupo experimental. Vamos a dividir los usuarios por sus grupos y calcular la diferencia en las acciones más comunes entre los grupos."
   ]
  },
  {
   "cell_type": "code",
   "execution_count": 9,
   "metadata": {},
   "outputs": [
    {
     "name": "stdout",
     "output_type": "stream",
     "text": [
      "Cantidad de usuarios por grupo:\n",
      "ExpId\n",
      "246    2489\n",
      "247    2520\n",
      "248    2542\n",
      "Name: DeviceIDHash, dtype: int64\n",
      "Prueba de hipótesis entre los grupos 246 y 247 para el evento 'MainScreenAppear':\n",
      "Estadístico Z: 0.5451301916932931, P-valor: 0.5856639791209877\n",
      "Prueba de hipótesis entre el grupo 248 y el grupo de control 246:\n",
      "Estadístico Z: -0.8456471720549796, P-valor: 0.39774960182882513\n"
     ]
    }
   ],
   "source": [
    "# Cantidad de usuarios por grupo experimental\n",
    "group_counts = df.groupby('ExpId')['DeviceIDHash'].nunique()\n",
    "print(\"Cantidad de usuarios por grupo:\")\n",
    "print(group_counts)\n",
    "\n",
    "# Seleccionamos el evento más popular\n",
    "most_popular_event = df['EventName'].value_counts().idxmax()\n",
    "\n",
    "# Función para realizar prueba de hipótesis (comparación de proporciones z-test)\n",
    "from statsmodels.stats.proportion import proportions_ztest\n",
    "\n",
    "def z_test_groups(df, event_name, group_1, group_2):\n",
    "    users_group_1 = df[(df['EventName'] == event_name) & (df['ExpId'] == group_1)]['DeviceIDHash'].nunique()\n",
    "    total_group_1 = df[df['ExpId'] == group_1]['DeviceIDHash'].nunique()\n",
    "    \n",
    "    users_group_2 = df[(df['EventName'] == event_name) & (df['ExpId'] == group_2)]['DeviceIDHash'].nunique()\n",
    "    total_group_2 = df[df['ExpId'] == group_2]['DeviceIDHash'].nunique()\n",
    "    \n",
    "    # Prueba de proporciones\n",
    "    count = [users_group_1, users_group_2]\n",
    "    nobs = [total_group_1, total_group_2]\n",
    "    \n",
    "    z_stat, p_value = proportions_ztest(count, nobs)\n",
    "    return z_stat, p_value\n",
    "\n",
    "# Comparación entre los dos grupos de control (246 y 247)\n",
    "z_stat, p_value = z_test_groups(df, most_popular_event, 246, 247)\n",
    "print(f\"Prueba de hipótesis entre los grupos 246 y 247 para el evento '{most_popular_event}':\")\n",
    "print(f\"Estadístico Z: {z_stat}, P-valor: {p_value}\")\n",
    "\n",
    "# Comparación entre el grupo experimental (248) y el grupo de control combinado\n",
    "z_stat_exp_vs_ctrl, p_value_exp_vs_ctrl = z_test_groups(df, most_popular_event, 248, 246)\n",
    "print(f\"Prueba de hipótesis entre el grupo 248 y el grupo de control 246:\")\n",
    "print(f\"Estadístico Z: {z_stat_exp_vs_ctrl}, P-valor: {p_value_exp_vs_ctrl}\")\n"
   ]
  },
  {
   "cell_type": "markdown",
   "metadata": {},
   "source": [
    "### Conclusiones del Paso 5: Análisis del Test A/A/B\n",
    "\n",
    "- **Distribución de Usuarios por Grupo:**\n",
    "  - La cantidad de usuarios en cada grupo experimental es bastante equilibrada, con **2,489** usuarios en el grupo 246, **2,520** en el grupo 247 y **2,542** en el grupo 248. Esto sugiere que la asignación de usuarios a los grupos ha sido exitosa y que los resultados serán comparables.\n",
    "\n",
    "- **Resultados de la Prueba de Hipótesis:**\n",
    "  - **Comparación entre Grupos 246 y 247:**\n",
    "    - El estadístico Z es **0.545**, y el P-valor es **0.586**. Dado que el P-valor es significativamente mayor que el nivel de significancia comúnmente utilizado (0.05), no se rechaza la hipótesis nula. Esto indica que no hay una diferencia estadísticamente significativa en el evento **MainScreenAppear** entre los grupos de control 246 y 247. Esto es un hallazgo positivo, ya que sugiere que ambos grupos están experimentando un comportamiento similar en cuanto a la interacción con la pantalla principal.\n",
    "\n",
    "  - **Comparación entre el Grupo Experimental (248) y el Grupo de Control (246):**\n",
    "    - El estadístico Z es **-0.846**, y el P-valor es **0.398**. Nuevamente, dado que el P-valor supera el umbral de significancia, no se rechaza la hipótesis nula. Esto sugiere que no hay diferencias significativas en la interacción con el evento **MainScreenAppear** entre el grupo experimental 248 y el grupo de control 246. Esto implica que cualquier cambio en la aplicación realizado para el grupo experimental no ha tenido un efecto medible en este evento en particular.\n",
    "\n",
    "En general, los resultados del test A/A/B indican que no ha habido cambios significativos en el comportamiento de los usuarios entre los grupos, lo cual puede ser un indicativo de que los cambios implementados (si los hubo) no están afectando la interacción inicial de los usuarios. Se recomienda continuar monitoreando y analizar otros eventos clave en el embudo de ventas para obtener una visión más completa de la efectividad de cualquier modificación.\n"
   ]
  },
  {
   "cell_type": "markdown",
   "metadata": {},
   "source": [
    "## Paso 6: Ajustar el nivel de significancia\n",
    "Podemos ajustar el nivel de significancia en función del número de pruebas de hipótesis realizadas, aplicando la corrección de Bonferroni si es necesario:"
   ]
  },
  {
   "cell_type": "code",
   "execution_count": 10,
   "metadata": {},
   "outputs": [
    {
     "name": "stdout",
     "output_type": "stream",
     "text": [
      "Nivel de significancia ajustado: 0.01\n"
     ]
    }
   ],
   "source": [
    "# Nivel de significancia original\n",
    "alpha = 0.05\n",
    "\n",
    "# Número de pruebas de hipótesis realizadas\n",
    "num_tests = len(df['EventName'].unique())\n",
    "\n",
    "# Aplicar la corrección de Bonferroni\n",
    "adjusted_alpha = alpha / num_tests\n",
    "print(f\"Nivel de significancia ajustado: {adjusted_alpha}\")\n"
   ]
  },
  {
   "cell_type": "markdown",
   "metadata": {},
   "source": [
    "### Conclusiones del Paso 6: Ajuste del Nivel de Significancia\n",
    "\n",
    "- **Ajuste del Nivel de Significancia:**\n",
    "  - El nivel de significancia original fue **0.05**, pero tras aplicar la corrección de Bonferroni, se ajustó a **0.01**. Este ajuste es esencial en el contexto de múltiples pruebas de hipótesis, ya que ayuda a controlar la tasa de falsos positivos.\n",
    "\n",
    "- **Implicaciones del Ajuste:**\n",
    "  - Con un nivel de significancia más estricto, se requiere una evidencia más sólida para rechazar la hipótesis nula. Esto significa que los resultados de las pruebas de hipótesis realizadas en los pasos anteriores deben ser interpretados con mayor precaución.\n",
    "  - Es posible que algunos efectos que podrían haber sido considerados estadísticamente significativos bajo un nivel de significancia de 0.05 no lo sean bajo el nuevo umbral de 0.01. Esto recalca la importancia de la validación rigurosa de los resultados, especialmente cuando se realizan múltiples pruebas.\n",
    "\n",
    "- **Recomendaciones:**\n",
    "  - Se sugiere seguir monitorizando y realizando pruebas adicionales, especialmente en otros eventos relevantes del embudo de ventas, para obtener resultados más concluyentes y asegurarse de que cualquier cambio implementado realmente tenga un impacto positivo en el comportamiento del usuario.\n",
    "  - Además, se recomienda documentar y considerar ajustes adicionales en el futuro si se realizan más pruebas, asegurando que el enfoque del análisis se mantenga riguroso y fundamentado.\n",
    "\n"
   ]
  },
  {
   "cell_type": "markdown",
   "metadata": {},
   "source": [
    "Seria mas que interesante realizar pruebas para el resto de eventos, los diferentes eventos en el embudo de ventas pueden tener muchos impactos en el comportamiento del usuario y evaluar cada uno nos daria claramente una vision mas completa sobre como afectan cada cambio a la experiencia de casa usuario, ademas de identificar muchas mas oportunidades.\n",
    "\n",
    "\n",
    "Siempre es viable y es lo mas recomendable realizar el test para el resto de eventos, no solo nos fortaleceria nuestro analisis sino que tambien proporcionaria una base mas solida para cualquier decision que se derive de los resultados.\n",
    "\n"
   ]
  },
  {
   "cell_type": "markdown",
   "metadata": {},
   "source": [
    "## Conclusiones Finales del Proyecto de Análisis A/A/B\n",
    "\n",
    "El análisis del comportamiento de los usuarios en la aplicación y el impacto de los cambios realizados se ha llevado a cabo con un enfoque sistemático, utilizando un diseño de prueba A/A/B. A continuación, se presentan las conclusiones clave:\n",
    "\n",
    "1. **Exploración de Datos:**\n",
    "   - El periodo de datos cubierto fue del **25 de julio de 2019 al 7 de agosto de 2019**, abarcando **7551 usuarios únicos** y un promedio de **32.33 eventos por usuario**. Esto sugiere un nivel significativo de interacción de los usuarios con la aplicación.\n",
    "\n",
    "2. **Embudo de Ventas:**\n",
    "   - Se identificaron los eventos críticos en el embudo de ventas, mostrando que el **99.5%** de los usuarios visualizan la pantalla principal, pero solo el **49.6%** agrega artículos al carrito, y el **46.9%** completa el pago. Esto indica un potencial de mejora considerable en la conversión a través de las etapas del embudo.\n",
    "\n",
    "3. **Pruebas de Hipótesis A/A/B:**\n",
    "   - Los resultados de las pruebas de hipótesis entre los grupos de control (246 y 247) y el grupo experimental (248) no mostraron diferencias estadísticamente significativas (p-valores superiores a 0.05). Esto sugiere que el cambio de fuente realizado en la aplicación no tuvo un efecto significativo en el comportamiento de los usuarios respecto a los eventos analizados.\n",
    "\n",
    "4. **Ajuste del Nivel de Significancia:**\n",
    "   - Tras aplicar la corrección de Bonferroni, el nivel de significancia se ajustó a **0.01**, lo que refuerza la necesidad de que cualquier efecto observado sea respaldado por evidencia sólida. Este enfoque cuidadoso ayuda a minimizar la posibilidad de obtener resultados falsos positivos.\n",
    "\n",
    "5. **Recomendaciones:**\n",
    "   - Considerando los resultados obtenidos, se recomienda realizar más pruebas y experimentos en otras áreas de la aplicación y el embudo de ventas para identificar oportunidades de mejora. Las pruebas de diferentes elementos de diseño, contenido y funcionalidades pueden ser exploradas para maximizar la conversión.\n",
    "   - Continuar monitoreando el comportamiento de los usuarios y realizar análisis adicionales para entender mejor sus interacciones y mejorar la experiencia del usuario.\n",
    "\n",
    "En resumen, aunque el cambio de fuente no mostró un efecto significativo, el análisis del comportamiento del usuario ha proporcionado información valiosa que puede ser utilizada para futuras optimizaciones en la aplicación.\n"
   ]
  },
  {
   "cell_type": "code",
   "execution_count": null,
   "metadata": {},
   "outputs": [],
   "source": []
  }
 ],
 "metadata": {
  "ExecuteTimeLog": [
   {
    "duration": 2596,
    "start_time": "2024-10-22T20:00:54.139Z"
   },
   {
    "duration": 114,
    "start_time": "2024-10-22T20:02:56.170Z"
   },
   {
    "duration": 58,
    "start_time": "2024-10-22T20:03:07.321Z"
   },
   {
    "duration": 525,
    "start_time": "2024-10-22T20:10:41.397Z"
   },
   {
    "duration": 397,
    "start_time": "2024-10-22T20:11:55.651Z"
   },
   {
    "duration": 446,
    "start_time": "2024-10-22T20:20:16.629Z"
   },
   {
    "duration": 3,
    "start_time": "2024-10-22T20:21:30.088Z"
   },
   {
    "duration": 102,
    "start_time": "2024-10-22T20:22:03.292Z"
   },
   {
    "duration": 58,
    "start_time": "2024-10-22T20:22:34.429Z"
   },
   {
    "duration": 235,
    "start_time": "2024-10-22T20:26:10.908Z"
   },
   {
    "duration": 834,
    "start_time": "2024-10-22T20:34:11.786Z"
   },
   {
    "duration": 122,
    "start_time": "2024-10-22T20:34:12.622Z"
   },
   {
    "duration": 69,
    "start_time": "2024-10-22T20:34:12.748Z"
   },
   {
    "duration": 3,
    "start_time": "2024-10-22T20:34:12.819Z"
   },
   {
    "duration": 122,
    "start_time": "2024-10-22T20:34:12.825Z"
   },
   {
    "duration": 66,
    "start_time": "2024-10-22T20:34:12.949Z"
   },
   {
    "duration": 231,
    "start_time": "2024-10-22T20:34:13.016Z"
   },
   {
    "duration": 117,
    "start_time": "2024-10-22T20:36:12.983Z"
   },
   {
    "duration": 447,
    "start_time": "2024-10-22T20:40:20.240Z"
   },
   {
    "duration": 15,
    "start_time": "2024-10-22T20:43:34.381Z"
   },
   {
    "duration": 481,
    "start_time": "2024-10-22T22:42:17.816Z"
   },
   {
    "duration": 66,
    "start_time": "2024-10-22T22:42:18.299Z"
   },
   {
    "duration": 188,
    "start_time": "2024-10-22T22:42:18.367Z"
   },
   {
    "duration": 0,
    "start_time": "2024-10-22T22:42:18.557Z"
   },
   {
    "duration": 0,
    "start_time": "2024-10-22T22:42:18.558Z"
   },
   {
    "duration": 0,
    "start_time": "2024-10-22T22:42:18.559Z"
   },
   {
    "duration": 0,
    "start_time": "2024-10-22T22:42:18.561Z"
   },
   {
    "duration": 0,
    "start_time": "2024-10-22T22:42:18.562Z"
   },
   {
    "duration": 0,
    "start_time": "2024-10-22T22:42:18.564Z"
   },
   {
    "duration": 2245,
    "start_time": "2024-10-22T22:43:08.278Z"
   },
   {
    "duration": 817,
    "start_time": "2024-10-22T22:43:28.112Z"
   },
   {
    "duration": 114,
    "start_time": "2024-10-22T22:43:28.932Z"
   },
   {
    "duration": 64,
    "start_time": "2024-10-22T22:43:29.048Z"
   },
   {
    "duration": 2,
    "start_time": "2024-10-22T22:43:29.114Z"
   },
   {
    "duration": 117,
    "start_time": "2024-10-22T22:43:29.118Z"
   },
   {
    "duration": 57,
    "start_time": "2024-10-22T22:43:29.237Z"
   },
   {
    "duration": 224,
    "start_time": "2024-10-22T22:43:29.295Z"
   },
   {
    "duration": 124,
    "start_time": "2024-10-22T22:43:29.520Z"
   },
   {
    "duration": 410,
    "start_time": "2024-10-22T22:43:29.646Z"
   },
   {
    "duration": 14,
    "start_time": "2024-10-22T22:43:30.058Z"
   },
   {
    "duration": 205,
    "start_time": "2024-10-22T22:46:28.247Z"
   },
   {
    "duration": 196,
    "start_time": "2024-10-22T22:46:39.369Z"
   },
   {
    "duration": 261,
    "start_time": "2024-10-22T22:46:48.058Z"
   },
   {
    "duration": 166,
    "start_time": "2024-10-22T22:46:56.050Z"
   },
   {
    "duration": 3,
    "start_time": "2024-10-22T22:47:56.587Z"
   },
   {
    "duration": 160,
    "start_time": "2024-10-22T22:48:15.812Z"
   },
   {
    "duration": 199,
    "start_time": "2024-10-22T22:49:17.891Z"
   },
   {
    "duration": 3,
    "start_time": "2024-10-22T22:55:47.266Z"
   },
   {
    "duration": 189,
    "start_time": "2024-10-22T23:04:02.084Z"
   },
   {
    "duration": 246,
    "start_time": "2024-10-22T23:05:43.401Z"
   },
   {
    "duration": 282,
    "start_time": "2024-10-22T23:19:36.127Z"
   }
  ],
  "kernelspec": {
   "display_name": "Python 3 (ipykernel)",
   "language": "python",
   "name": "python3"
  },
  "language_info": {
   "codemirror_mode": {
    "name": "ipython",
    "version": 3
   },
   "file_extension": ".py",
   "mimetype": "text/x-python",
   "name": "python",
   "nbconvert_exporter": "python",
   "pygments_lexer": "ipython3",
   "version": "3.9.19"
  },
  "toc": {
   "base_numbering": 1,
   "nav_menu": {},
   "number_sections": true,
   "sideBar": true,
   "skip_h1_title": true,
   "title_cell": "Table of Contents",
   "title_sidebar": "Contents",
   "toc_cell": false,
   "toc_position": {},
   "toc_section_display": true,
   "toc_window_display": false
  }
 },
 "nbformat": 4,
 "nbformat_minor": 2
}
